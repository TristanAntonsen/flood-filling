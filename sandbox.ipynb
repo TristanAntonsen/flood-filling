{
 "cells": [
  {
   "cell_type": "markdown",
   "metadata": {},
   "source": [
    "## Sandbox for marching squares"
   ]
  },
  {
   "cell_type": "code",
   "execution_count": 1,
   "metadata": {},
   "outputs": [],
   "source": [
    "import numpy as np\n",
    "import matplotlib.pyplot as plt\n",
    "from PIL import Image, ImageDraw"
   ]
  },
  {
   "cell_type": "code",
   "execution_count": 2,
   "metadata": {},
   "outputs": [],
   "source": [
    "def center_ellipse(x,y,r,c):\n",
    "\n",
    "    draw.ellipse([x - r, y - r, x + r, y + r],fill=c)\n",
    "\n",
    "def center_rectangle(x,y,l,w,c):\n",
    "    l = l/2\n",
    "    w = w/2\n",
    "    draw.rectangle([x - w, y - l, x + w, y + l],fill=c)"
   ]
  },
  {
   "cell_type": "markdown",
   "metadata": {},
   "source": [
    "Flood Filling"
   ]
  },
  {
   "cell_type": "code",
   "execution_count": 6,
   "metadata": {},
   "outputs": [
    {
     "data": {
      "image/png": "[encoded data removed]",
      "text/plain": [
       "<PIL.Image.Image image mode=RGB size=500x500>"
      ]
     },
     "execution_count": 6,
     "metadata": {},
     "output_type": "execute_result"
    }
   ],
   "source": [
    "image_resolution = 500\n",
    "\n",
    "img = Image.new('RGB', (image_resolution, image_resolution))\n",
    "draw = ImageDraw.Draw(img)\n",
    "\n",
    "threshold = 0.5\n",
    "\n",
    "center_ellipse(20, 20, 4, f'rgb({255},{255},{255})')\n",
    "img\n",
    "\n",
    "# img.save('pixels.png')"
   ]
  },
  {
   "cell_type": "markdown",
   "metadata": {},
   "source": [
    "Lattices"
   ]
  },
  {
   "cell_type": "code",
   "execution_count": 6,
   "metadata": {},
   "outputs": [],
   "source": [
    "# image_resolution = 1080\n",
    "\n",
    "# img = Image.new('RGB', (image_resolution, image_resolution))\n",
    "# draw = ImageDraw.Draw(img)\n",
    "\n",
    "# def draw_cell(unit_cell, coords):\n",
    "#     for beam in unit_cell.beams:\n",
    "#         x1 = coords[beam[0]][0]\n",
    "#         y1 = coords[beam[0]][1]\n",
    "#         x2 = coords[beam[1]][0]\n",
    "#         y2 = coords[beam[1]][1]\n",
    "#         draw.line([x1, y1, x2, y2], fill=\"white\",width=10)\n",
    "\n",
    "# unit_cell = UnitCell(\"SC\")\n",
    "# scale = 100\n",
    "# unit_cell.x_scale = scale\n",
    "# unit_cell.y_scale = scale\n",
    "# lattice = Lattice(unit_cell, 5, 5)\n",
    "# i = 0\n",
    "# coords = lattice.return_cell_coords(0,0)\n",
    "# for coords in lattice.return_all_cell_coords():\n",
    "#     draw_cell(unit_cell, coords)\n",
    "# # for coords in lattic coords)\n",
    "# img.save('pixels.png')"
   ]
  }
 ],
 "metadata": {
  "kernelspec": {
   "display_name": "Python 3.9.6 ('venv': venv)",
   "language": "python",
   "name": "python3"
  },
  "language_info": {
   "codemirror_mode": {
    "name": "ipython",
    "version": 3
   },
   "file_extension": ".py",
   "mimetype": "text/x-python",
   "name": "python",
   "nbconvert_exporter": "python",
   "pygments_lexer": "ipython3",
   "version": "3.9.6"
  },
  "orig_nbformat": 4,
  "vscode": {
   "interpreter": {
    "hash": "cd237489dff79f9295dcb96414632a5c3390ecf4caf9db19d0be8be50e4df87e"
   }
  }
 },
 "nbformat": 4,
 "nbformat_minor": 2
}
