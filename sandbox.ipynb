{
 "cells": [
  {
   "cell_type": "markdown",
   "metadata": {},
   "source": [
    "## Sandbox for flood filling"
   ]
  },
  {
   "cell_type": "code",
   "execution_count": 12,
   "metadata": {},
   "outputs": [],
   "source": [
    "import numpy as np\n",
    "import matplotlib.pyplot as plt\n",
    "from PIL import Image, ImageDraw"
   ]
  },
  {
   "cell_type": "code",
   "execution_count": 13,
   "metadata": {},
   "outputs": [],
   "source": [
    "def center_ellipse(x,y,r,c):\n",
    "\n",
    "    draw.ellipse([x - r, y - r, x + r, y + r],fill=c)\n",
    "\n",
    "def center_rectangle(x,y,l,w,c):\n",
    "    l = l/2\n",
    "    w = w/2\n",
    "    draw.rectangle([x - w, y - l, x + w, y + l],fill=c)"
   ]
  },
  {
   "cell_type": "markdown",
   "metadata": {},
   "source": [
    "Flood Filling"
   ]
  },
  {
   "cell_type": "code",
   "execution_count": 56,
   "metadata": {},
   "outputs": [
    {
     "data": {
      "image/png": "[encoded data removed]",
      "text/plain": [
       "<PIL.Image.Image image mode=RGB size=500x500>"
      ]
     },
     "execution_count": 56,
     "metadata": {},
     "output_type": "execute_result"
    }
   ],
   "source": [
    "image_resolution = 500\n",
    "\n",
    "img = Image.new('RGB', (image_resolution, image_resolution))\n",
    "draw = ImageDraw.Draw(img)\n",
    "\n",
    "threshold = 0.5\n",
    "\n",
    "# drawing boundary\n",
    "radius = 175\n",
    "thickness = 10\n",
    "center_point = (image_resolution / 2, image_resolution / 2)\n",
    "center_ellipse(*center_point, radius, f'rgb({255},{255},{255})')\n",
    "center_ellipse(*center_point, radius - thickness / 2, f'rgb({0},{0},{0})')\n",
    "\n",
    "\n",
    "def is_valid(width, height, x, y, start_color, visited):\n",
    "\n",
    "    pixels = img.load()\n",
    "\n",
    "    if x < 0 or x > width:\n",
    "        return False\n",
    "    if y < 0 or y > height:\n",
    "        return False\n",
    "    if pixels[x,y] != start_color:\n",
    "        return False\n",
    "    if visited[x,y] == 1:\n",
    "        return False\n",
    "\n",
    "    return True\n",
    "        \n",
    "def flood_fill(x,y, start_color, new_color,img):\n",
    "    start_color = (0,0,0)\n",
    "    pixels = img.load()\n",
    "    width = img.size[0]\n",
    "    height = img.size[1]\n",
    "\n",
    "    visited = np.zeros((width, height))\n",
    "    queue = []\n",
    "    queue.append([x,y])\n",
    "\n",
    "    visited[x,y] = 1\n",
    "\n",
    "    while len(queue) > 0:\n",
    "        current = queue[0]\n",
    "        x = current[0]\n",
    "        y = current[1]\n",
    "\n",
    "        pixels[x,y] = new_color\n",
    "\n",
    "        queue.pop(0)\n",
    "\n",
    "        _x = x + 1\n",
    "        _y = y\n",
    "        if is_valid(width, height, _x,_y, start_color, visited):\n",
    "            queue.append([_x,_y])\n",
    "            visited[_x,_y] = 1\n",
    "            pixels[_x,_y] = new_color\n",
    "            \n",
    "        _x = x - 1\n",
    "        _y = y\n",
    "        if is_valid(width, height, _x,_y, start_color, visited):\n",
    "            queue.append([_x,_y])\n",
    "            visited[_x,_y] = 1\n",
    "            pixels[_x,_y] = new_color\n",
    "\n",
    "        _x = x\n",
    "        _y = y + 1\n",
    "        if is_valid(width, height, _x,_y, start_color, visited):\n",
    "            queue.append([_x,_y])\n",
    "            visited[_x,_y] = 1\n",
    "            pixels[_x,_y] = new_color\n",
    "\n",
    "        _x = x\n",
    "        _y = y - 1\n",
    "        if is_valid(width, height, _x,_y, start_color, visited):\n",
    "            queue.append([_x,_y])\n",
    "            visited[_x,_y] = 1\n",
    "            pixels[_x,_y] = new_color\n",
    "\n",
    "\n",
    "\n",
    "flood_fill(250,250,(0,0,0),(255,255,255),img)\n",
    "\n",
    "img\n"
   ]
  }
 ],
 "metadata": {
  "kernelspec": {
   "display_name": "Python 3.9.6 ('venv': venv)",
   "language": "python",
   "name": "python3"
  },
  "language_info": {
   "codemirror_mode": {
    "name": "ipython",
    "version": 3
   },
   "file_extension": ".py",
   "mimetype": "text/x-python",
   "name": "python",
   "nbconvert_exporter": "python",
   "pygments_lexer": "ipython3",
   "version": "3.9.6"
  },
  "orig_nbformat": 4,
  "vscode": {
   "interpreter": {
    "hash": "cd237489dff79f9295dcb96414632a5c3390ecf4caf9db19d0be8be50e4df87e"
   }
  }
 },
 "nbformat": 4,
 "nbformat_minor": 2
}
